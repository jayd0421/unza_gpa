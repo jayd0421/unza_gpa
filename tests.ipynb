{
 "cells": [
  {
   "cell_type": "code",
   "execution_count": 84,
   "id": "f0a5e43e",
   "metadata": {},
   "outputs": [],
   "source": [
    "import pandas as pd\n",
    "\n",
    "data = pd.read_csv('data/gpa_data.csv')\n",
    "# data.set_index('program_id')['program'].to_dict()\n",
    "programs = dict(zip(data['program_id'], data['program']))\n",
    "programs = dict(sorted(programs.items())[:5])\n",
    "departments = list(programs.values())"
   ]
  },
  {
   "cell_type": "code",
   "execution_count": 85,
   "id": "cfafcfe5",
   "metadata": {},
   "outputs": [],
   "source": [
    "def department_df(data, department, year):\n",
    "    # Get first or second year courses\n",
    "    if year == \"First\" or year == \"Second\":\n",
    "        departments_df = data[(data['year'] == year)]\n",
    "    # Get specialised courses\n",
    "    else:\n",
    "        departments_df = data[(data['program'] == department)  & (data['year'] == year)]\n",
    "    \n",
    "    return departments_df"
   ]
  },
  {
   "cell_type": "code",
   "execution_count": null,
   "id": "094f72b6",
   "metadata": {},
   "outputs": [],
   "source": [
    "department_df = department_df(data, \"Agricultural\", \"First\")"
   ]
  },
  {
   "cell_type": "code",
   "execution_count": 88,
   "id": "17cff3b3",
   "metadata": {},
   "outputs": [
    {
     "data": {
      "text/plain": [
       "0"
      ]
     },
     "execution_count": 88,
     "metadata": {},
     "output_type": "execute_result"
    }
   ],
   "source": [
    "courses_dict = dict(zip(\n",
    "                    department_df[department_df['is_compulsory'] == 0]['course_code'], \n",
    "                    department_df[department_df['is_compulsory'] == 0]['course']\n",
    "                    ))\n",
    "len(courses_dict)"
   ]
  }
 ],
 "metadata": {
  "kernelspec": {
   "display_name": "st-env",
   "language": "python",
   "name": "python3"
  },
  "language_info": {
   "codemirror_mode": {
    "name": "ipython",
    "version": 3
   },
   "file_extension": ".py",
   "mimetype": "text/x-python",
   "name": "python",
   "nbconvert_exporter": "python",
   "pygments_lexer": "ipython3",
   "version": "3.9.23"
  }
 },
 "nbformat": 4,
 "nbformat_minor": 5
}
