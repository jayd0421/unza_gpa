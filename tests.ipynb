{
 "cells": [
  {
   "cell_type": "code",
   "execution_count": 40,
   "id": "f0a5e43e",
   "metadata": {},
   "outputs": [],
   "source": [
    "import pandas as pd\n",
    "\n",
    "data = pd.read_csv('data/gpa_data.csv')\n",
    "# data.set_index('program_id')['program'].to_dict()\n",
    "programs = dict(zip(data['program_id'], data['program']))\n",
    "programs = dict(sorted(programs.items())[:5])\n",
    "departments = list(programs.values())"
   ]
  },
  {
   "cell_type": "code",
   "execution_count": null,
   "id": "cfafcfe5",
   "metadata": {},
   "outputs": [],
   "source": [
    "def department_df(data, department, year):\n",
    "    # Get first or second year courses\n",
    "    if year == \"First\" or year == \"Second\":\n",
    "        departments_df = data[(data['year'] == year)]\n",
    "    # Get specialised courses\n",
    "    else:\n",
    "        departments_df = data[(data['program'] == department)  & (data['year'] == year)]\n",
    "    \n",
    "    return departments_df"
   ]
  },
  {
   "cell_type": "code",
   "execution_count": 60,
   "id": "094f72b6",
   "metadata": {},
   "outputs": [
    {
     "data": {
      "application/vnd.microsoft.datawrangler.viewer.v0+json": {
       "columns": [
        {
         "name": "index",
         "rawType": "int64",
         "type": "integer"
        },
        {
         "name": "SN",
         "rawType": "int64",
         "type": "integer"
        },
        {
         "name": "program_id",
         "rawType": "int64",
         "type": "integer"
        },
        {
         "name": "program",
         "rawType": "object",
         "type": "string"
        },
        {
         "name": "year_id",
         "rawType": "int64",
         "type": "integer"
        },
        {
         "name": "year",
         "rawType": "object",
         "type": "string"
        },
        {
         "name": "course_id",
         "rawType": "int64",
         "type": "integer"
        },
        {
         "name": "course_code",
         "rawType": "object",
         "type": "string"
        },
        {
         "name": "course",
         "rawType": "object",
         "type": "string"
        },
        {
         "name": "course_credit",
         "rawType": "float64",
         "type": "float"
        },
        {
         "name": "is_compulsory",
         "rawType": "int64",
         "type": "integer"
        },
        {
         "name": "comment",
         "rawType": "object",
         "type": "unknown"
        }
       ],
       "ref": "7dd0ec01-d352-4ab6-b52e-f8cd3910c94c",
       "rows": [
        [
         "112",
         "1",
         "4",
         "Geomatic",
         "3",
         "Third",
         "431",
         "MAT 3110",
         "Engineering Mathematics II",
         null,
         "1",
         null
        ],
        [
         "113",
         "2",
         "4",
         "Geomatic",
         "3",
         "Third",
         "432",
         "GEE 3711",
         "Surveying",
         null,
         "1",
         null
        ],
        [
         "114",
         "3",
         "4",
         "Geomatic",
         "3",
         "Third",
         "433",
         "GEE 3622",
         "Principles of Data Acquisition and Processing",
         null,
         "1",
         null
        ],
        [
         "115",
         "4",
         "4",
         "Geomatic",
         "3",
         "Third",
         "434",
         "GEE 3222",
         "Data Representation and Visualizations",
         null,
         "1",
         null
        ],
        [
         "116",
         "5",
         "4",
         "Geomatic",
         "3",
         "Third",
         "435",
         "GEE 3511",
         "Land Management I",
         null,
         "1",
         null
        ],
        [
         "117",
         "6",
         "4",
         "Geomatic",
         "3",
         "Third",
         "436",
         "GEE 3522",
         "Land Management II",
         null,
         "1",
         null
        ],
        [
         "118",
         "7",
         "4",
         "Geomatic",
         "3",
         "Third",
         "437",
         "CEE 3711",
         "Soil Science, Roads, Hydrology and Civil Engineering Drawing",
         null,
         "1",
         null
        ]
       ],
       "shape": {
        "columns": 11,
        "rows": 7
       }
      },
      "text/html": [
       "<div>\n",
       "<style scoped>\n",
       "    .dataframe tbody tr th:only-of-type {\n",
       "        vertical-align: middle;\n",
       "    }\n",
       "\n",
       "    .dataframe tbody tr th {\n",
       "        vertical-align: top;\n",
       "    }\n",
       "\n",
       "    .dataframe thead th {\n",
       "        text-align: right;\n",
       "    }\n",
       "</style>\n",
       "<table border=\"1\" class=\"dataframe\">\n",
       "  <thead>\n",
       "    <tr style=\"text-align: right;\">\n",
       "      <th></th>\n",
       "      <th>SN</th>\n",
       "      <th>program_id</th>\n",
       "      <th>program</th>\n",
       "      <th>year_id</th>\n",
       "      <th>year</th>\n",
       "      <th>course_id</th>\n",
       "      <th>course_code</th>\n",
       "      <th>course</th>\n",
       "      <th>course_credit</th>\n",
       "      <th>is_compulsory</th>\n",
       "      <th>comment</th>\n",
       "    </tr>\n",
       "  </thead>\n",
       "  <tbody>\n",
       "    <tr>\n",
       "      <th>112</th>\n",
       "      <td>1</td>\n",
       "      <td>4</td>\n",
       "      <td>Geomatic</td>\n",
       "      <td>3</td>\n",
       "      <td>Third</td>\n",
       "      <td>431</td>\n",
       "      <td>MAT 3110</td>\n",
       "      <td>Engineering Mathematics II</td>\n",
       "      <td>NaN</td>\n",
       "      <td>1</td>\n",
       "      <td>NaN</td>\n",
       "    </tr>\n",
       "    <tr>\n",
       "      <th>113</th>\n",
       "      <td>2</td>\n",
       "      <td>4</td>\n",
       "      <td>Geomatic</td>\n",
       "      <td>3</td>\n",
       "      <td>Third</td>\n",
       "      <td>432</td>\n",
       "      <td>GEE 3711</td>\n",
       "      <td>Surveying</td>\n",
       "      <td>NaN</td>\n",
       "      <td>1</td>\n",
       "      <td>NaN</td>\n",
       "    </tr>\n",
       "    <tr>\n",
       "      <th>114</th>\n",
       "      <td>3</td>\n",
       "      <td>4</td>\n",
       "      <td>Geomatic</td>\n",
       "      <td>3</td>\n",
       "      <td>Third</td>\n",
       "      <td>433</td>\n",
       "      <td>GEE 3622</td>\n",
       "      <td>Principles of Data Acquisition and Processing</td>\n",
       "      <td>NaN</td>\n",
       "      <td>1</td>\n",
       "      <td>NaN</td>\n",
       "    </tr>\n",
       "    <tr>\n",
       "      <th>115</th>\n",
       "      <td>4</td>\n",
       "      <td>4</td>\n",
       "      <td>Geomatic</td>\n",
       "      <td>3</td>\n",
       "      <td>Third</td>\n",
       "      <td>434</td>\n",
       "      <td>GEE 3222</td>\n",
       "      <td>Data Representation and Visualizations</td>\n",
       "      <td>NaN</td>\n",
       "      <td>1</td>\n",
       "      <td>NaN</td>\n",
       "    </tr>\n",
       "    <tr>\n",
       "      <th>116</th>\n",
       "      <td>5</td>\n",
       "      <td>4</td>\n",
       "      <td>Geomatic</td>\n",
       "      <td>3</td>\n",
       "      <td>Third</td>\n",
       "      <td>435</td>\n",
       "      <td>GEE 3511</td>\n",
       "      <td>Land Management I</td>\n",
       "      <td>NaN</td>\n",
       "      <td>1</td>\n",
       "      <td>NaN</td>\n",
       "    </tr>\n",
       "    <tr>\n",
       "      <th>117</th>\n",
       "      <td>6</td>\n",
       "      <td>4</td>\n",
       "      <td>Geomatic</td>\n",
       "      <td>3</td>\n",
       "      <td>Third</td>\n",
       "      <td>436</td>\n",
       "      <td>GEE 3522</td>\n",
       "      <td>Land Management II</td>\n",
       "      <td>NaN</td>\n",
       "      <td>1</td>\n",
       "      <td>NaN</td>\n",
       "    </tr>\n",
       "    <tr>\n",
       "      <th>118</th>\n",
       "      <td>7</td>\n",
       "      <td>4</td>\n",
       "      <td>Geomatic</td>\n",
       "      <td>3</td>\n",
       "      <td>Third</td>\n",
       "      <td>437</td>\n",
       "      <td>CEE 3711</td>\n",
       "      <td>Soil Science, Roads, Hydrology and Civil Engin...</td>\n",
       "      <td>NaN</td>\n",
       "      <td>1</td>\n",
       "      <td>NaN</td>\n",
       "    </tr>\n",
       "  </tbody>\n",
       "</table>\n",
       "</div>"
      ],
      "text/plain": [
       "     SN  program_id   program  year_id   year  course_id course_code  \\\n",
       "112   1           4  Geomatic        3  Third        431    MAT 3110   \n",
       "113   2           4  Geomatic        3  Third        432    GEE 3711   \n",
       "114   3           4  Geomatic        3  Third        433    GEE 3622   \n",
       "115   4           4  Geomatic        3  Third        434    GEE 3222   \n",
       "116   5           4  Geomatic        3  Third        435    GEE 3511   \n",
       "117   6           4  Geomatic        3  Third        436    GEE 3522   \n",
       "118   7           4  Geomatic        3  Third        437    CEE 3711   \n",
       "\n",
       "                                                course  course_credit  \\\n",
       "112                         Engineering Mathematics II            NaN   \n",
       "113                                          Surveying            NaN   \n",
       "114      Principles of Data Acquisition and Processing            NaN   \n",
       "115             Data Representation and Visualizations            NaN   \n",
       "116                                  Land Management I            NaN   \n",
       "117                                 Land Management II            NaN   \n",
       "118  Soil Science, Roads, Hydrology and Civil Engin...            NaN   \n",
       "\n",
       "     is_compulsory comment  \n",
       "112              1     NaN  \n",
       "113              1     NaN  \n",
       "114              1     NaN  \n",
       "115              1     NaN  \n",
       "116              1     NaN  \n",
       "117              1     NaN  \n",
       "118              1     NaN  "
      ]
     },
     "execution_count": 60,
     "metadata": {},
     "output_type": "execute_result"
    }
   ],
   "source": [
    "years_list(data, \"Geomatic\", \"Third\")"
   ]
  }
 ],
 "metadata": {
  "kernelspec": {
   "display_name": "st-env",
   "language": "python",
   "name": "python3"
  },
  "language_info": {
   "codemirror_mode": {
    "name": "ipython",
    "version": 3
   },
   "file_extension": ".py",
   "mimetype": "text/x-python",
   "name": "python",
   "nbconvert_exporter": "python",
   "pygments_lexer": "ipython3",
   "version": "3.9.23"
  }
 },
 "nbformat": 4,
 "nbformat_minor": 5
}
