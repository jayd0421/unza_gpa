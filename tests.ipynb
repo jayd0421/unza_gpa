{
 "cells": [
  {
   "cell_type": "code",
   "execution_count": 114,
   "id": "f0a5e43e",
   "metadata": {},
   "outputs": [],
   "source": [
    "import pandas as pd\n",
    "\n",
    "data = pd.read_csv('data/gpa_data.csv')\n",
    "# data.set_index('program_id')['program'].to_dict()\n",
    "programs = dict(zip(data['program_id'], data['program']))\n",
    "programs = dict(sorted(programs.items())[:5])\n",
    "departments = list(programs.values())"
   ]
  },
  {
   "cell_type": "code",
   "execution_count": 119,
   "id": "a1d757fc",
   "metadata": {},
   "outputs": [],
   "source": [
    "def department_df(data, department, year):\n",
    "    # Get first or second year courses\n",
    "    if year == \"First\" or year == \"Second\":\n",
    "        departments_df = data[(data['year'] == year)]\n",
    "    # Get specialised courses\n",
    "    else:\n",
    "        departments_df = data[(data['program'] == department) & (data['year'] == year)]\n",
    "\n",
    "    return departments_df"
   ]
  },
  {
   "cell_type": "code",
   "execution_count": 122,
   "id": "3a74cfa5",
   "metadata": {},
   "outputs": [],
   "source": [
    "def course_credits_dict(selected_department, department_df, electrical_specialty):\n",
    "    # Get df for specific EEE specialization\n",
    "    if selected_department == 'Electrical & Electronics':\n",
    "        eletrical_specialties_dict = {\n",
    "            \"Electrical Machines and Power\": 'ET', \n",
    "            \"Electronics and Telecommunication\": \"EMP\"}\n",
    "\n",
    "        # Get filter our df for specific EEE specialization\n",
    "        department_df = department_df[\n",
    "            department_df['comment'] != eletrical_specialties_dict[electrical_specialty]\n",
    "            ]\n",
    "\n",
    "        # Get dictionary for course credits\n",
    "        course_credits_dict = dict(zip(\n",
    "            department_df['course_code'], # course_code as key\n",
    "            department_df['course_credit'] # course_credit as value\n",
    "            ))\n",
    "\n",
    "    # Get other departments\n",
    "    else:\n",
    "        # Get dictionary for compulsory courses\n",
    "        course_credits_dict = dict(zip(\n",
    "            department_df['course_code'], # course_code as key\n",
    "            department_df['course_credit'] # course_credit as value\n",
    "            ))\n",
    "\n",
    "    return course_credits_dict"
   ]
  },
  {
   "cell_type": "code",
   "execution_count": 175,
   "id": "47d48500",
   "metadata": {},
   "outputs": [
    {
     "ename": "TypeError",
     "evalue": "'dict' object is not callable",
     "output_type": "error",
     "traceback": [
      "\u001b[1;31m---------------------------------------------------------------------------\u001b[0m",
      "\u001b[1;31mTypeError\u001b[0m                                 Traceback (most recent call last)",
      "Cell \u001b[1;32mIn[175], line 4\u001b[0m\n\u001b[0;32m      2\u001b[0m department \u001b[38;5;241m=\u001b[39m \u001b[38;5;124m'\u001b[39m\u001b[38;5;124mNS\u001b[39m\u001b[38;5;124m'\u001b[39m\n\u001b[0;32m      3\u001b[0m departments_df \u001b[38;5;241m=\u001b[39m department_df(data, department, year)\n\u001b[1;32m----> 4\u001b[0m course_credits_dict \u001b[38;5;241m=\u001b[39m \u001b[43mcourse_credits_dict\u001b[49m\u001b[43m(\u001b[49m\u001b[43mdepartment\u001b[49m\u001b[43m,\u001b[49m\u001b[43m \u001b[49m\u001b[43mdepartments_df\u001b[49m\u001b[43m,\u001b[49m\u001b[43m \u001b[49m\u001b[38;5;28;43;01mNone\u001b[39;49;00m\u001b[43m)\u001b[49m\n",
      "\u001b[1;31mTypeError\u001b[0m: 'dict' object is not callable"
     ]
    }
   ],
   "source": [
    "year = 'First'\n",
    "department = 'NS'\n",
    "departments_df = department_df(data, department, year)\n",
    "course_credits_dict = course_credits_dict(department, departments_df, None)"
   ]
  },
  {
   "cell_type": "code",
   "execution_count": 127,
   "id": "5a80bac5",
   "metadata": {},
   "outputs": [
    {
     "data": {
      "text/plain": [
       "120.0"
      ]
     },
     "execution_count": 127,
     "metadata": {},
     "output_type": "execute_result"
    }
   ],
   "source": [
    "sum(course_credits_dict.values())"
   ]
  },
  {
   "cell_type": "code",
   "execution_count": 174,
   "id": "cfafcfe5",
   "metadata": {},
   "outputs": [],
   "source": [
    "grades = {\n",
    "    \"First\":{\"MAT 1100\":None,\"PHY 1010\":None,\"BIO 1412\":None,\"CHE 1000\":None,\"BIO 1401\":None},\n",
    "    \"Second\":{\"CEE 2219\":\"A\",\"EEE 2019\":\"A\",\"ENG 2129\":\"A\",\"ENG 2139\":\"A\",\"ENG 2159\":\"A\",\"MAT 2110\":\"A\",\"MEC 2009\":\"A\",\"MEC 2309\":\"A\"},\n",
    "    \"Third\":{\"AGG 3811\":\"A\",\"CEE 3311\":\"A\",\"AGA 3335\":\"A\",\"MEC 3401\":\"A\",\"MAT 3110\":\"A\",\"MEC 3352\":\"A\",\"AGC 3135\":\"A\",\"AEN 3412\":\"A\"},\n",
    "    \"Fourth\":{\"CEE 4311\":\"A\",\"AEN 4311\":\"A\",\"GEE 4812\":\"A\",\"MAT 4119\":\"A\",\"AEN 4512\":\"A\",\"ENG 4129\":\"A\",\"AEN 4112\":\"A\",\"AEN 4612\":\"A\",\"ENG 4143\":\"A\"},\n",
    "    \"Fifth\":{\"AEN 5211\":\"A\",\"AEN 5421\":\"A\",\"AEN 5321\":\"A\",\"AEN 5714\":\"A\",\"AEN 5132\":\"A\",\"ENG 5129\":\"A\",\"ENG 5143\":\"A\",\"CEE 4412\":\"A\",\"AEN 5122\":\"A\",\"AEN 5222\":None,\"AEN 5522\":None}\n",
    "}"
   ]
  },
  {
   "cell_type": "code",
   "execution_count": 178,
   "id": "094f72b6",
   "metadata": {},
   "outputs": [],
   "source": [
    "grade_gpv_dict = {'A+': 5, 'A': 4, 'B+': 3.5, 'B': 3, 'C+': 2.37, 'C': 1, 'D+': 0, 'D': 0, 'P': 0, 'F': 0, 'S': 0} \n",
    "years = ['First', 'Second', 'Third', 'Fourth', 'Fifth']"
   ]
  },
  {
   "cell_type": "code",
   "execution_count": 179,
   "id": "ba2014af",
   "metadata": {},
   "outputs": [
    {
     "ename": "KeyError",
     "evalue": "'CEE 2219'",
     "output_type": "error",
     "traceback": [
      "\u001b[1;31m---------------------------------------------------------------------------\u001b[0m",
      "\u001b[1;31mKeyError\u001b[0m                                  Traceback (most recent call last)",
      "Cell \u001b[1;32mIn[179], line 13\u001b[0m\n\u001b[0;32m     11\u001b[0m \u001b[38;5;28;01melse\u001b[39;00m:\n\u001b[0;32m     12\u001b[0m     grade_gpv \u001b[38;5;241m=\u001b[39m grade_gpv_dict[grade]\n\u001b[1;32m---> 13\u001b[0m     course_credit \u001b[38;5;241m=\u001b[39m \u001b[43mcourse_credits_dict\u001b[49m\u001b[43m[\u001b[49m\u001b[43mcourse\u001b[49m\u001b[43m]\u001b[49m\n\u001b[0;32m     14\u001b[0m     cc_gpv \u001b[38;5;241m=\u001b[39m grade_gpv \u001b[38;5;241m*\u001b[39m course_credit\n\u001b[0;32m     15\u001b[0m     cc_gpvs\u001b[38;5;241m.\u001b[39mappend(cc_gpv)\n",
      "\u001b[1;31mKeyError\u001b[0m: 'CEE 2219'"
     ]
    }
   ],
   "source": [
    "# def year_gpa(year_grades_dict, course_credits_dict, year):\n",
    "gpas_dict = {}    \n",
    "\n",
    "for year in years:\n",
    "    total_credits = []\n",
    "    cc_gpvs = []\n",
    "    \n",
    "    for (course, grade) in grades[year].items():\n",
    "        if grade is None:\n",
    "            pass\n",
    "        else:\n",
    "            grade_gpv = grade_gpv_dict[grade]\n",
    "            course_credit = course_credits_dict[course]\n",
    "            cc_gpv = grade_gpv * course_credit\n",
    "            cc_gpvs.append(cc_gpv)\n",
    "            total_credits.append(course_credit)\n",
    "\n",
    "    if sum(cc_gpvs) == 0 or sum(total_credits) == 0:\n",
    "        pass\n",
    "    else:\n",
    "        gpa = sum(cc_gpvs)/sum(total_credits)\n",
    "\n",
    "        year_gpa_dict = {year: gpa}\n",
    "\n",
    "    gpas_dict.update(year_gpa_dict)\n",
    "gpas_dict"
   ]
  },
  {
   "cell_type": "code",
   "execution_count": 152,
   "id": "55a98f8a",
   "metadata": {},
   "outputs": [
    {
     "data": {
      "text/plain": [
       "1.875"
      ]
     },
     "execution_count": 152,
     "metadata": {},
     "output_type": "execute_result"
    }
   ],
   "source": [
    "gpa = sum(cc_gpvs)/sum(total_credits)\n",
    "gpa\n",
    "# cc_gpvs"
   ]
  },
  {
   "cell_type": "code",
   "execution_count": 186,
   "id": "67dc3a59",
   "metadata": {},
   "outputs": [
    {
     "data": {
      "text/plain": [
       "1"
      ]
     },
     "execution_count": 186,
     "metadata": {},
     "output_type": "execute_result"
    }
   ],
   "source": [
    "test = [4, 5, 3, 2, 6]\n",
    "nums = len([num for num in test if num > 5])\n",
    "nums"
   ]
  }
 ],
 "metadata": {
  "kernelspec": {
   "display_name": "st-env",
   "language": "python",
   "name": "python3"
  },
  "language_info": {
   "codemirror_mode": {
    "name": "ipython",
    "version": 3
   },
   "file_extension": ".py",
   "mimetype": "text/x-python",
   "name": "python",
   "nbconvert_exporter": "python",
   "pygments_lexer": "ipython3",
   "version": "3.9.23"
  }
 },
 "nbformat": 4,
 "nbformat_minor": 5
}
